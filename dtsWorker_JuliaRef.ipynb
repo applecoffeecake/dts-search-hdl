{
 "cells": [
  {
   "cell_type": "markdown",
   "id": "955822fb-eb53-4d5c-9441-1dce73ae6dd9",
   "metadata": {},
   "source": [
    "MIT License\n",
    "\n",
    "Copyright (c) 2024 Mohannad Shehadeh\n",
    "\n",
    "Permission is hereby granted, free of charge, to any person obtaining a copy\n",
    "of this software and associated documentation files (the \"Software\"), to deal\n",
    "in the Software without restriction, including without limitation the rights\n",
    "to use, copy, modify, merge, publish, distribute, sublicense, and/or sell\n",
    "copies of the Software, and to permit persons to whom the Software is\n",
    "furnished to do so, subject to the following conditions:\n",
    "\n",
    "The above copyright notice and this permission notice shall be included in all\n",
    "copies or substantial portions of the Software.\n",
    "\n",
    "THE SOFTWARE IS PROVIDED \"AS IS\", WITHOUT WARRANTY OF ANY KIND, EXPRESS OR\n",
    "IMPLIED, INCLUDING BUT NOT LIMITED TO THE WARRANTIES OF MERCHANTABILITY,\n",
    "FITNESS FOR A PARTICULAR PURPOSE AND NONINFRINGEMENT. IN NO EVENT SHALL THE\n",
    "AUTHORS OR COPYRIGHT HOLDERS BE LIABLE FOR ANY CLAIM, DAMAGES OR OTHER\n",
    "LIABILITY, WHETHER IN AN ACTION OF CONTRACT, TORT OR OTHERWISE, ARISING FROM,\n",
    "OUT OF OR IN CONNECTION WITH THE SOFTWARE OR THE USE OR OTHER DEALINGS IN THE\n",
    "SOFTWARE."
   ]
  },
  {
   "cell_type": "code",
   "execution_count": 1,
   "id": "08e4043b-9164-4d16-9244-0548feef57c1",
   "metadata": {},
   "outputs": [],
   "source": [
    "function getSpectrum(X)\n",
    "   SPECTRUM = []\n",
    "       for block in 1:size(X)[1]\n",
    "           for i in 1:size(X)[2]\n",
    "               for j in i+1:size(X)[2]\n",
    "                   push!(SPECTRUM, abs(X[block,i]-X[block,j]))\n",
    "               end\n",
    "           end\n",
    "       end\n",
    "   return SPECTRUM\n",
    "end;\n",
    "mlen(X) = maximum(getSpectrum(X));\n",
    "slen(X) = sum([maximum(getSpectrum(X[i,:]')) for i in 1:size(X)[1]]);\n",
    "verify(X) = (size(X)[1],size(X)[2]-1,mlen(X),slen(X),allunique(getSpectrum(X)));\n",
    "sort_dts(X) = X[sortperm([maximum(getSpectrum(X[i,:]')) for i in 1:size(X)[1]],rev=true),:];"
   ]
  },
  {
   "cell_type": "code",
   "execution_count": 2,
   "id": "5221586c-64c5-4be3-9c4d-ec94c53ab81e",
   "metadata": {},
   "outputs": [],
   "source": [
    "M = 140; n = 14;\n",
    "# M = 19; n = 3;\n",
    "# M = 64; n = 4;"
   ]
  },
  {
   "cell_type": "code",
   "execution_count": 3,
   "id": "109d3c21-54a9-41b7-9f60-2c7259100151",
   "metadata": {},
   "outputs": [],
   "source": [
    "# yhex = UInt64.(\n",
    "#         [\n",
    "#         0x8\n",
    "#         0x410000\n",
    "#         0x8\n",
    "#         0x101008\n",
    "#         0x004001\n",
    "#         0x400010\n",
    "#         0x014400\n",
    "#         0x002000\n",
    "#         0x100000\n",
    "#         0x390000\n",
    "#         0x201000\n",
    "#         0x000401\n",
    "#         ]\n",
    "# )"
   ]
  },
  {
   "cell_type": "code",
   "execution_count": 4,
   "id": "eba27295-fe59-4ea6-af13-4913d7091c98",
   "metadata": {},
   "outputs": [],
   "source": [
    "# ystring = prod(string.(yhex,base=2,pad=24))[end-n*(M+1)+1:end]"
   ]
  },
  {
   "cell_type": "code",
   "execution_count": 5,
   "id": "ef7a91fb",
   "metadata": {},
   "outputs": [
    {
     "name": "stdout",
     "output_type": "stream",
     "text": [
      "1974\n"
     ]
    },
    {
     "data": {
      "text/plain": [
       "14-element Vector{String}:\n",
       " \"0000000000100000000000000000000\"\u001b[93m\u001b[1m ⋯ 79 bytes ⋯ \u001b[22m\u001b[39m\"0000000000000000000001000000001\"\n",
       " \"0000001000000000000000000000000\"\u001b[93m\u001b[1m ⋯ 79 bytes ⋯ \u001b[22m\u001b[39m\"0000000000000000000000100000001\"\n",
       " \"0000000100000000000000001000000\"\u001b[93m\u001b[1m ⋯ 79 bytes ⋯ \u001b[22m\u001b[39m\"0000000000000000000000000000001\"\n",
       " \"0000100000000000000000000000000\"\u001b[93m\u001b[1m ⋯ 79 bytes ⋯ \u001b[22m\u001b[39m\"0000000000000000000000000010001\"\n",
       " \"0001000000000001000000000000000\"\u001b[93m\u001b[1m ⋯ 79 bytes ⋯ \u001b[22m\u001b[39m\"0001000000000000000000000000001\"\n",
       " \"0000000000010000000000000010000\"\u001b[93m\u001b[1m ⋯ 79 bytes ⋯ \u001b[22m\u001b[39m\"0000010000000000000000000000001\"\n",
       " \"0000010000000000000000000000000\"\u001b[93m\u001b[1m ⋯ 79 bytes ⋯ \u001b[22m\u001b[39m\"0000000000100000000000000000001\"\n",
       " \"0000000000001100000000000000000\"\u001b[93m\u001b[1m ⋯ 79 bytes ⋯ \u001b[22m\u001b[39m\"0000000000000000000000000100001\"\n",
       " \"0000000001000000000010000000000\"\u001b[93m\u001b[1m ⋯ 79 bytes ⋯ \u001b[22m\u001b[39m\"0000001000000000000000000000001\"\n",
       " \"0100000000000000000000000000010\"\u001b[93m\u001b[1m ⋯ 79 bytes ⋯ \u001b[22m\u001b[39m\"1000000000000000000000000000001\"\n",
       " \"0000000000000000000000000001000\"\u001b[93m\u001b[1m ⋯ 79 bytes ⋯ \u001b[22m\u001b[39m\"0100000000000000000000000000001\"\n",
       " \"0000000000000000000000100000100\"\u001b[93m\u001b[1m ⋯ 79 bytes ⋯ \u001b[22m\u001b[39m\"0000000000001000000000000000001\"\n",
       " \"0000000000000000100000000000000\"\u001b[93m\u001b[1m ⋯ 79 bytes ⋯ \u001b[22m\u001b[39m\"0000000000010000000000000000001\"\n",
       " \"1000000000000000000001000000000\"\u001b[93m\u001b[1m ⋯ 79 bytes ⋯ \u001b[22m\u001b[39m\"0000000000000000000000000000101\""
      ]
     },
     "execution_count": 5,
     "metadata": {},
     "output_type": "execute_result"
    }
   ],
   "source": [
    "ystring = \"10000000000000000000010000000000000000000000000000000000000010000000000000000000000000000000000000000000000000000\n",
    "00000000000000000000000001010000000000000000100000000000000000000000000000000100000000000000000000000000000000000\n",
    "00000000000000000000000100000000000010000000000000000001000000000000000000000010000010000000000000000000000000000\n",
    "00000000000000000000010000000000000000000000000000000000000000000100000000000000000100000000000000000000000000010\n",
    "00000100100000000000000000000000000000000000000000000000000000000000000000000000001000000000000000000000000000010\n",
    "10000000000000000000000000001000000000000000000000000000000000000000000000000000000000100000000000000000000001000\n",
    "00000000000000000000000000100000000010000000000100000000000000000000000000000000000000000000000000000000000000000\n",
    "00000000000000001000000000000010000000000000000000000010000000000001100000000000000000000000000000000000000000000\n",
    "00000000000000000000000001000000000000000000000000000000000000000000000000000100001000001000000000000000000000000\n",
    "00000000000000010000000000000000000000000100000000000000000000000000000000000000000000000010000000000000000000100\n",
    "00000000010000000000000010000000000000000000000000000000000000000000000000000000000000000000000001000000000000000\n",
    "10000000000000000000000001000100000000000100000000000000000000000000000000000000000000000000000000000000010000000\n",
    "00000000000000000000000000100000000000000000000000000100001000000000000000000000000000000000010000000000000000000\n",
    "00000000000000000000000000000000000100000000000000000000000000000000000000000100010000000100000000000000001000000\n",
    "00000000000000000000000000000000000000000100000000000000000000000000000000000010000000000000000000000000000001000\n",
    "00010000000000000000000000000000000000000000000000100000000000000000000000000000000000100000000000000000000000000\n",
    "00000000000000001000000010000000000100000000000000000000010000000000000000000000000000000000000000000010000000000\n",
    "00000000000000000000000000000000000000000001000000001\n",
    "\"\n",
    "ystring = replace(ystring, \"\\n\" => \"\")\n",
    "println(length(ystring))\n",
    "ystring = [ystring[(0:M) .+ (M+1)*i .+ 1] for i in n-1:-1:0]"
   ]
  },
  {
   "cell_type": "code",
   "execution_count": 6,
   "id": "f195bd66-7c50-4175-abb1-a4ae793ca4d4",
   "metadata": {},
   "outputs": [],
   "source": [
    "Y = reverse(M+1 .- findall([ystring[1][i] for i in 1:M+1] .== '1'))'\n",
    "for block in 2:n\n",
    "    Y = [Y; reverse(M+1 .- findall([ystring[block][i] for i in 1:M+1] .== '1'))']\n",
    "end"
   ]
  },
  {
   "cell_type": "code",
   "execution_count": 7,
   "id": "45fbd4ae-8c32-4b1e-882f-d95ca8ed589b",
   "metadata": {},
   "outputs": [
    {
     "data": {
      "text/plain": [
       "14×5 Matrix{Int64}:\n",
       " 0   9   63  108  130\n",
       " 0   8   51   87  134\n",
       " 0  31   68  116  133\n",
       " 0   4   46  101  136\n",
       " 0  27   61  125  137\n",
       " 0  25   41  114  129\n",
       " 0  20   69   95  135\n",
       " 0   5   57  127  128\n",
       " 0  24   38  120  131\n",
       " 0  30   53  111  139\n",
       " 0  29  103  106  113\n",
       " 0  18   62  112  118\n",
       " 0  19   32   91  124\n",
       " 0   2   80  119  140"
      ]
     },
     "execution_count": 7,
     "metadata": {},
     "output_type": "execute_result"
    }
   ],
   "source": [
    "Y"
   ]
  },
  {
   "cell_type": "code",
   "execution_count": 8,
   "id": "6dc147ab-a3f7-4117-a65b-63f1244ec135",
   "metadata": {},
   "outputs": [
    {
     "data": {
      "text/plain": [
       "(14, 4, 140, 1827, true)"
      ]
     },
     "execution_count": 8,
     "metadata": {},
     "output_type": "execute_result"
    }
   ],
   "source": [
    "verify(Y)"
   ]
  },
  {
   "cell_type": "code",
   "execution_count": 9,
   "id": "57c931ef-6de8-4778-9a99-f9d95d92798a",
   "metadata": {},
   "outputs": [
    {
     "data": {
      "text/plain": [
       "14-element Vector{LinearAlgebra.Adjoint{Int64, Vector{Int64}}}:\n",
       " [0 9 … 108 130]\n",
       " [0 8 … 87 134]\n",
       " [0 31 … 116 133]\n",
       " [0 4 … 101 136]\n",
       " [0 27 … 125 137]\n",
       " [0 25 … 114 129]\n",
       " [0 20 … 95 135]\n",
       " [0 5 … 127 128]\n",
       " [0 24 … 120 131]\n",
       " [0 30 … 111 139]\n",
       " [0 29 … 106 113]\n",
       " [0 18 … 112 118]\n",
       " [0 19 … 91 124]\n",
       " [0 2 … 119 140]"
      ]
     },
     "execution_count": 9,
     "metadata": {},
     "output_type": "execute_result"
    }
   ],
   "source": [
    "rulers = [reverse(M+1 .- findall([ystring[block][i] for i in 1:M+1] .== '1'))' for block in 1:n]"
   ]
  },
  {
   "cell_type": "markdown",
   "id": "668ab516-19d5-42f5-9368-e195778e6418",
   "metadata": {},
   "source": [
    "Ignore the stuff below (some testing notes). "
   ]
  },
  {
   "cell_type": "code",
   "execution_count": 10,
   "id": "e5cc5f81-767e-4547-8456-d984e2ab8238",
   "metadata": {},
   "outputs": [],
   "source": [
    "using Statistics"
   ]
  },
  {
   "cell_type": "code",
   "execution_count": 11,
   "id": "b87f54e7-df89-4142-9578-c6ff7d800887",
   "metadata": {},
   "outputs": [
    {
     "name": "stdout",
     "output_type": "stream",
     "text": [
      "num samples 10\n",
      "mean 1438.1\n",
      "stddev 1054.3887592133915\n"
     ]
    }
   ],
   "source": [
    "times_software = [1215,1086,2481,885,563,1966,2127,474,3486,98]\n",
    "println(\"num samples $(length(times_software))\")\n",
    "println(\"mean $(mean(times_software))\")\n",
    "println(\"stddev $(std(times_software))\")"
   ]
  },
  {
   "cell_type": "code",
   "execution_count": 12,
   "id": "8be48dd6-5e91-4b18-9638-63b6412798e8",
   "metadata": {},
   "outputs": [
    {
     "name": "stdout",
     "output_type": "stream",
     "text": [
      "num samples 10\n",
      "mean 350.3\n",
      "stddev 188.01125852813533\n"
     ]
    }
   ],
   "source": [
    "# parmarks1, numworkers1\n",
    "times_hardware = [44,348,334,655,160,508,493,151,450,360]\n",
    "println(\"num samples $(length(times_hardware))\")\n",
    "println(\"mean $(mean(times_hardware))\")\n",
    "println(\"stddev $(std(times_hardware))\")"
   ]
  },
  {
   "cell_type": "code",
   "execution_count": 13,
   "id": "64ab895c-d18a-4343-ae71-5fac4e5dc30b",
   "metadata": {},
   "outputs": [
    {
     "data": {
      "text/plain": [
       "4.105338281473022"
      ]
     },
     "execution_count": 13,
     "metadata": {},
     "output_type": "execute_result"
    }
   ],
   "source": [
    "mean(times_software)/mean(times_hardware)"
   ]
  },
  {
   "cell_type": "code",
   "execution_count": 14,
   "id": "ad8fe300-506b-412a-ae86-450ad6494db2",
   "metadata": {},
   "outputs": [
    {
     "name": "stdout",
     "output_type": "stream",
     "text": [
      "num samples 10\n",
      "mean 136.5\n",
      "stddev 98.34886882928548\n"
     ]
    }
   ],
   "source": [
    "# parmarks5, numworkers1\n",
    "times_hardware = [120,90,180,75,15,100,40,325,150,270]\n",
    "println(\"num samples $(length(times_hardware))\")\n",
    "println(\"mean $(mean(times_hardware))\")\n",
    "println(\"stddev $(std(times_hardware))\")"
   ]
  },
  {
   "cell_type": "code",
   "execution_count": 15,
   "id": "37820374-29ef-4d93-9c10-3ed1823e6098",
   "metadata": {},
   "outputs": [
    {
     "data": {
      "text/plain": [
       "10.535531135531135"
      ]
     },
     "execution_count": 15,
     "metadata": {},
     "output_type": "execute_result"
    }
   ],
   "source": [
    "mean(times_software)/mean(times_hardware)"
   ]
  },
  {
   "cell_type": "code",
   "execution_count": 16,
   "id": "8e6246f4-ce5b-41f0-bf19-c8fbcbd029f9",
   "metadata": {},
   "outputs": [
    {
     "name": "stdout",
     "output_type": "stream",
     "text": [
      "num samples 12\n",
      "mean 52.333333333333336\n",
      "stddev 56.769603475697096\n"
     ]
    }
   ],
   "source": [
    "# parmarks1, numworkers5\n",
    "times_hardware = [4,90,20,5,80,15,210,40,45,23,60,36]\n",
    "println(\"num samples $(length(times_hardware))\")\n",
    "println(\"mean $(mean(times_hardware))\")\n",
    "println(\"stddev $(std(times_hardware))\")"
   ]
  },
  {
   "cell_type": "code",
   "execution_count": 17,
   "id": "69033c79-4133-4bca-868b-dfbcdf071bbb",
   "metadata": {},
   "outputs": [
    {
     "data": {
      "text/plain": [
       "27.4796178343949"
      ]
     },
     "execution_count": 17,
     "metadata": {},
     "output_type": "execute_result"
    }
   ],
   "source": [
    "mean(times_software)/mean(times_hardware)"
   ]
  },
  {
   "cell_type": "code",
   "execution_count": null,
   "id": "08b16924-4983-417e-82f3-67dea37d4fc3",
   "metadata": {},
   "outputs": [],
   "source": []
  }
 ],
 "metadata": {
  "kernelspec": {
   "display_name": "Julia 1.10.4",
   "language": "julia",
   "name": "julia-1.10"
  },
  "language_info": {
   "file_extension": ".jl",
   "mimetype": "application/julia",
   "name": "julia",
   "version": "1.10.4"
  }
 },
 "nbformat": 4,
 "nbformat_minor": 5
}
