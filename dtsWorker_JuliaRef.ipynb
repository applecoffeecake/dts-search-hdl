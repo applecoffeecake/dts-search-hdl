{
 "cells": [
  {
   "cell_type": "markdown",
   "id": "955822fb-eb53-4d5c-9441-1dce73ae6dd9",
   "metadata": {},
   "source": [
    "MIT License\n",
    "\n",
    "Copyright (c) 2024 Mohannad Shehadeh\n",
    "\n",
    "Permission is hereby granted, free of charge, to any person obtaining a copy\n",
    "of this software and associated documentation files (the \"Software\"), to deal\n",
    "in the Software without restriction, including without limitation the rights\n",
    "to use, copy, modify, merge, publish, distribute, sublicense, and/or sell\n",
    "copies of the Software, and to permit persons to whom the Software is\n",
    "furnished to do so, subject to the following conditions:\n",
    "\n",
    "The above copyright notice and this permission notice shall be included in all\n",
    "copies or substantial portions of the Software.\n",
    "\n",
    "THE SOFTWARE IS PROVIDED \"AS IS\", WITHOUT WARRANTY OF ANY KIND, EXPRESS OR\n",
    "IMPLIED, INCLUDING BUT NOT LIMITED TO THE WARRANTIES OF MERCHANTABILITY,\n",
    "FITNESS FOR A PARTICULAR PURPOSE AND NONINFRINGEMENT. IN NO EVENT SHALL THE\n",
    "AUTHORS OR COPYRIGHT HOLDERS BE LIABLE FOR ANY CLAIM, DAMAGES OR OTHER\n",
    "LIABILITY, WHETHER IN AN ACTION OF CONTRACT, TORT OR OTHERWISE, ARISING FROM,\n",
    "OUT OF OR IN CONNECTION WITH THE SOFTWARE OR THE USE OR OTHER DEALINGS IN THE\n",
    "SOFTWARE."
   ]
  },
  {
   "cell_type": "code",
   "execution_count": 329,
   "id": "08e4043b-9164-4d16-9244-0548feef57c1",
   "metadata": {},
   "outputs": [],
   "source": [
    "function getSpectrum(X)\n",
    "   SPECTRUM = []\n",
    "       for block in 1:size(X)[1]\n",
    "           for i in 1:size(X)[2]\n",
    "               for j in i+1:size(X)[2]\n",
    "                   push!(SPECTRUM, abs(X[block,i]-X[block,j]))\n",
    "               end\n",
    "           end\n",
    "       end\n",
    "   return SPECTRUM\n",
    "end;\n",
    "mlen(X) = maximum(getSpectrum(X));\n",
    "slen(X) = sum([maximum(getSpectrum(X[i,:]')) for i in 1:size(X)[1]]);\n",
    "verify(X) = (size(X)[1],size(X)[2]-1,mlen(X),slen(X),allunique(getSpectrum(X)));\n",
    "sort_dts(X) = X[sortperm([maximum(getSpectrum(X[i,:]')) for i in 1:size(X)[1]],rev=true),:];"
   ]
  },
  {
   "cell_type": "code",
   "execution_count": 449,
   "id": "5221586c-64c5-4be3-9c4d-ec94c53ab81e",
   "metadata": {},
   "outputs": [],
   "source": [
    "M = 140; n = 14;\n",
    "# M = 19; n = 3;\n",
    "# M = 64; n = 4;"
   ]
  },
  {
   "cell_type": "code",
   "execution_count": 450,
   "id": "109d3c21-54a9-41b7-9f60-2c7259100151",
   "metadata": {},
   "outputs": [],
   "source": [
    "# yhex = UInt64.(\n",
    "#         [\n",
    "#         0x8\n",
    "#         0x410000\n",
    "#         0x8\n",
    "#         0x101008\n",
    "#         0x004001\n",
    "#         0x400010\n",
    "#         0x014400\n",
    "#         0x002000\n",
    "#         0x100000\n",
    "#         0x390000\n",
    "#         0x201000\n",
    "#         0x000401\n",
    "#         ]\n",
    "# )"
   ]
  },
  {
   "cell_type": "code",
   "execution_count": 451,
   "id": "eba27295-fe59-4ea6-af13-4913d7091c98",
   "metadata": {},
   "outputs": [],
   "source": [
    "# ystring = prod(string.(yhex,base=2,pad=24))[end-n*(M+1)+1:end]"
   ]
  },
  {
   "cell_type": "code",
   "execution_count": 465,
   "id": "ef7a91fb",
   "metadata": {},
   "outputs": [
    {
     "name": "stdout",
     "output_type": "stream",
     "text": [
      "1974\n"
     ]
    },
    {
     "data": {
      "text/plain": [
       "14-element Vector{String}:\n",
       " \"0000000000000000000000000000000\"\u001b[93m\u001b[1m ⋯ 79 bytes ⋯ \u001b[22m\u001b[39m\"0000000000000000010000000000001\"\n",
       " \"0000000001000000000000000000000\"\u001b[93m\u001b[1m ⋯ 79 bytes ⋯ \u001b[22m\u001b[39m\"0000000000000000000000000000001\"\n",
       " \"0000000000000000000001000000010\"\u001b[93m\u001b[1m ⋯ 79 bytes ⋯ \u001b[22m\u001b[39m\"0000000000000000000100000000001\"\n",
       " \"0000000010000000010000000000000\"\u001b[93m\u001b[1m ⋯ 79 bytes ⋯ \u001b[22m\u001b[39m\"0000000000000000000000010000001\"\n",
       " \"0000000000000000000000000100000\"\u001b[93m\u001b[1m ⋯ 79 bytes ⋯ \u001b[22m\u001b[39m\"0000000000000000000000000000001\"\n",
       " \"0000000000100000000000000000000\"\u001b[93m\u001b[1m ⋯ 79 bytes ⋯ \u001b[22m\u001b[39m\"0000000000000000000000000000001\"\n",
       " \"0000000000000000001000000000000\"\u001b[93m\u001b[1m ⋯ 79 bytes ⋯ \u001b[22m\u001b[39m\"0000000000000000001000000000001\"\n",
       " \"0000000000000100000000000000000\"\u001b[93m\u001b[1m ⋯ 79 bytes ⋯ \u001b[22m\u001b[39m\"0100000000000000000000000001001\"\n",
       " \"0000000000001000000000100000000\"\u001b[93m\u001b[1m ⋯ 79 bytes ⋯ \u001b[22m\u001b[39m\"0000000000000000000000000000001\"\n",
       " \"0000010000000000000000010000000\"\u001b[93m\u001b[1m ⋯ 79 bytes ⋯ \u001b[22m\u001b[39m\"0000000010000000000000000000001\"\n",
       " \"0000000000010000000000000010000\"\u001b[93m\u001b[1m ⋯ 79 bytes ⋯ \u001b[22m\u001b[39m\"0000000000000000000000000000001\"\n",
       " \"0000000000000010000100000000000\"\u001b[93m\u001b[1m ⋯ 79 bytes ⋯ \u001b[22m\u001b[39m\"1000000000000000100000000000001\"\n",
       " \"1010000000000000000000000000000\"\u001b[93m\u001b[1m ⋯ 79 bytes ⋯ \u001b[22m\u001b[39m\"0000000000000000000000000000011\"\n",
       " \"0000000100000000000000000000000\"\u001b[93m\u001b[1m ⋯ 79 bytes ⋯ \u001b[22m\u001b[39m\"0000000000000000000000000000001\""
      ]
     },
     "execution_count": 465,
     "metadata": {},
     "output_type": "execute_result"
    }
   ],
   "source": [
    "ystring = \"000000010000000000000000000000010000000000000000000000000000000000000000000000000000000010000000\n",
    "000000000000010000000000000000000000000000001101000000000000000000000000000000000000000000000000\n",
    "000000000000000000000000000000000000000001000000000000000000000000000000000000000000000011000000\n",
    "000000001000010000000000000000000000000000000000000000000000000000000000000000000000000000000000\n",
    "000000001000000000000000100000000000001000000000001000000000000001000000000000000000000000000000\n",
    "000000000000100000000000000000000000000000000000100000000000000000000000000000000001000001000000\n",
    "000000000001000000000000000000000000000000000000000000000000000000100000000000000000000000000000\n",
    "000000000010000000000000000000001000000000000100000000010000000000000000000000000000000000000000\n",
    "000000000010000000000000000000000001000000000000000000000000000000000000000001000000000000010000\n",
    "000000000000000000100000000000000000000000000000000000000000000000000000000000000000000000000100\n",
    "000000000000000000000001001000000000000000000100000000000000001000000000000000000000000000000000\n",
    "000100000000000000000000000000000000000000000000000000000001000000000001000000000010000000000000\n",
    "000000000000000000000000000000001000000000000000000010000000000000000001000000000000000000000000\n",
    "000000000000000000001000000000000000000000000010000000000000000000000000010000010000000000000000\n",
    "000000000000000000000000000100000000000000000000000000000000000001000000001000000001000000000000\n",
    "000000000000000000000000000000000000000000000000001000000000000000000000000000000000000000000000\n",
    "000000010000001000000000000000000000100000001000000000000000000000000000000000000000010000000000\n",
    "000000000000000000000000000000000000000000000000100000000001000000000100000000000000000000000000\n",
    "010001000000000000000000000000000000000000000000000000000000000000000010000000000000000000000000\n",
    "000000001000000000000000000000000000000000000000000000000000000000000000000000000000000000000000\n",
    "000000000000000000000000000000000000000010000000000001\"\n",
    "ystring = replace(ystring, \"\\n\" => \"\")\n",
    "println(length(ystring))\n",
    "ystring = [ystring[(0:M) .+ (M+1)*i .+ 1] for i in n-1:-1:0]"
   ]
  },
  {
   "cell_type": "code",
   "execution_count": 466,
   "id": "f195bd66-7c50-4175-abb1-a4ae793ca4d4",
   "metadata": {},
   "outputs": [
    {
     "ename": "LoadError",
     "evalue": "DimensionMismatch: number of columns of each array must match (got (2, 5))",
     "output_type": "error",
     "traceback": [
      "DimensionMismatch: number of columns of each array must match (got (2, 5))",
      "",
      "Stacktrace:",
      " [1] _typed_vcat(::Type{Int64}, A::Tuple{LinearAlgebra.Adjoint{Int64, Vector{Int64}}, LinearAlgebra.Adjoint{Int64, Vector{Int64}}})",
      "   @ Base ./abstractarray.jl:1702",
      " [2] typed_vcat",
      "   @ ./abstractarray.jl:1716 [inlined]",
      " [3] vcat(X1::LinearAlgebra.Adjoint{Int64, Vector{Int64}}, X::LinearAlgebra.Adjoint{Int64, Vector{Int64}})",
      "   @ SparseArrays ~/.julia/juliaup/julia-1.10.4+0.x64.linux.gnu/share/julia/stdlib/v1.10/SparseArrays/src/sparsevector.jl:1239",
      " [4] top-level scope",
      "   @ In[466]:3"
     ]
    }
   ],
   "source": [
    "Y = reverse(M+1 .- findall([ystring[1][i] for i in 1:M+1] .== '1'))'\n",
    "for block in 2:n\n",
    "    Y = [Y; reverse(M+1 .- findall([ystring[block][i] for i in 1:M+1] .== '1'))']\n",
    "end"
   ]
  },
  {
   "cell_type": "code",
   "execution_count": 467,
   "id": "45fbd4ae-8c32-4b1e-882f-d95ca8ed589b",
   "metadata": {},
   "outputs": [
    {
     "data": {
      "text/plain": [
       "1×2 adjoint(::Vector{Int64}) with eltype Int64:\n",
       " 0  13"
      ]
     },
     "execution_count": 467,
     "metadata": {},
     "output_type": "execute_result"
    }
   ],
   "source": [
    "Y"
   ]
  },
  {
   "cell_type": "code",
   "execution_count": 468,
   "id": "6dc147ab-a3f7-4117-a65b-63f1244ec135",
   "metadata": {},
   "outputs": [
    {
     "data": {
      "text/plain": [
       "(1, 1, 13, 13, true)"
      ]
     },
     "execution_count": 468,
     "metadata": {},
     "output_type": "execute_result"
    }
   ],
   "source": [
    "verify(Y)"
   ]
  },
  {
   "cell_type": "code",
   "execution_count": 469,
   "id": "57c931ef-6de8-4778-9a99-f9d95d92798a",
   "metadata": {},
   "outputs": [
    {
     "data": {
      "text/plain": [
       "14-element Vector{LinearAlgebra.Adjoint{Int64, Vector{Int64}}}:\n",
       " [0 13]\n",
       " [0 34 … 103 131]\n",
       " [0 11 … 111 119]\n",
       " [0 7 … 123 132]\n",
       " [0 38 … 88 115]\n",
       " [0 45 … 84 130]\n",
       " [0 12 … 105 122]\n",
       " [0 3 … 104 127]\n",
       " [0 42 … 118 128]\n",
       " [0 22 … 117 135]\n",
       " [0 35 … 114 129]\n",
       " [0 14 … 121 126]\n",
       " [0 1 … 138 140]\n",
       " [0 31 … 109 133]"
      ]
     },
     "execution_count": 469,
     "metadata": {},
     "output_type": "execute_result"
    }
   ],
   "source": [
    "rulers = [reverse(M+1 .- findall([ystring[block][i] for i in 1:M+1] .== '1'))' for block in 1:n]"
   ]
  },
  {
   "cell_type": "code",
   "execution_count": 464,
   "id": "e5cc5f81-767e-4547-8456-d984e2ab8238",
   "metadata": {},
   "outputs": [],
   "source": [
    "using Statistics"
   ]
  },
  {
   "cell_type": "code",
   "execution_count": 458,
   "id": "b87f54e7-df89-4142-9578-c6ff7d800887",
   "metadata": {},
   "outputs": [],
   "source": [
    "# times_software = []\n",
    "# println(\"mean $(mean(times_software))\")\n",
    "# println(\"stddev $(std(times_software))\")"
   ]
  },
  {
   "cell_type": "code",
   "execution_count": 348,
   "id": "132a8057-d398-4216-9f6c-62bebe2feceb",
   "metadata": {},
   "outputs": [],
   "source": [
    "# # parmarks 5, skim10, mgenstages14\n",
    "# times_hardware = []\n",
    "# println(\"mean $(mean(times_hardware))\")\n",
    "# println(\"stddev $(std(times_hardware))\")"
   ]
  },
  {
   "cell_type": "code",
   "execution_count": 391,
   "id": "8be48dd6-5e91-4b18-9638-63b6412798e8",
   "metadata": {},
   "outputs": [
    {
     "name": "stdout",
     "output_type": "stream",
     "text": [
      "mean 17.333333333333332\n",
      "stddev 12.863563439724471\n"
     ]
    }
   ],
   "source": [
    "# parmarks 5, skim16 size57, mgenstages14\n",
    "times_hardware = [29,16,27,11,48,5,27,12,34,15,6,9,29,23,56,9,14,34,7,12,10,7,7,7,7,14,10,7,14,14]\n",
    "println(\"mean $(mean(times_hardware))\")\n",
    "println(\"stddev $(std(times_hardware))\")"
   ]
  },
  {
   "cell_type": "code",
   "execution_count": 392,
   "id": "8a228612-2d39-44ca-b156-de52c7012f6b",
   "metadata": {},
   "outputs": [
    {
     "name": "stdout",
     "output_type": "stream",
     "text": [
      "mean 19.17391304347826\n",
      "stddev 22.560327556279855\n"
     ]
    }
   ],
   "source": [
    "# parmarks 5, skim32 size64, mgenstages14\n",
    "times_hardware = [14,17,5,15,30,4,60,13,7,5,10,90,7,20,3,5,5,8,9,5,60,40,9]\n",
    "println(\"mean $(mean(times_hardware))\")\n",
    "println(\"stddev $(std(times_hardware))\")"
   ]
  }
 ],
 "metadata": {
  "kernelspec": {
   "display_name": "Julia 1.10.4",
   "language": "julia",
   "name": "julia-1.10"
  },
  "language_info": {
   "file_extension": ".jl",
   "mimetype": "application/julia",
   "name": "julia",
   "version": "1.10.4"
  }
 },
 "nbformat": 4,
 "nbformat_minor": 5
}
